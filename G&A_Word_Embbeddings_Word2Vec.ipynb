{
  "nbformat": 4,
  "nbformat_minor": 0,
  "metadata": {
    "colab": {
      "name": "G&A-Word_Embbeddings_Word2Vec.ipynb",
      "version": "0.3.2",
      "provenance": [],
      "collapsed_sections": []
    },
    "kernelspec": {
      "display_name": "Python 3",
      "language": "python",
      "name": "python3"
    }
  },
  "cells": [
    {
      "cell_type": "markdown",
      "metadata": {
        "id": "view-in-github",
        "colab_type": "text"
      },
      "source": [
        "[View in Colaboratory](https://colab.research.google.com/github/alper1/Tensorflow/blob/master/G&A_Word_Embbeddings_Word2Vec.ipynb)"
      ]
    },
    {
      "metadata": {
        "id": "f9Gstwuep1Mi",
        "colab_type": "text"
      },
      "cell_type": "markdown",
      "source": [
        "# Session 13: Word Embeddings using the Word2Vec skip-gram model\n",
        "\n",
        "\n",
        "The goal of this assignment is to train a Word2Vec skip-gram model over a data base of plain tex [Text8](http://mattmahoney.net/dc/textdata).\n",
        "\n",
        "This is a personal wrap-up of all the material provided by [Google's Deep Learning course on Udacity](https://www.udacity.com/course/deep-learning--ud730), so all credit goes to them. \n"
      ]
    },
    {
      "metadata": {
        "id": "JL7ln3n3p1Mk",
        "colab_type": "text"
      },
      "cell_type": "markdown",
      "source": [
        "The following [link](http://mccormickml.com/2016/04/19/word2vec-tutorial-the-skip-gram-model/) gives a very simple explanation of the model. Check also the following video."
      ]
    },
    {
      "metadata": {
        "id": "A25TCIxRTyvR",
        "colab_type": "text"
      },
      "cell_type": "markdown",
      "source": [
        "**ALPER KOCABIYIK & GONZALO ALVAREZ**"
      ]
    },
    {
      "metadata": {
        "id": "TDbROZM_p1Ml",
        "colab_type": "code",
        "colab": {
          "base_uri": "https://localhost:8080/",
          "height": 321
        },
        "outputId": "908dbd1f-1bf3-4862-fe21-7d03d4ca0e11"
      },
      "cell_type": "code",
      "source": [
        "from IPython.display import YouTubeVideo\n",
        "\n",
        "YouTubeVideo('xMwx2A_o5r4')   "
      ],
      "execution_count": 1,
      "outputs": [
        {
          "output_type": "execute_result",
          "data": {
            "text/html": [
              "\n",
              "        <iframe\n",
              "            width=\"400\"\n",
              "            height=\"300\"\n",
              "            src=\"https://www.youtube.com/embed/xMwx2A_o5r4\"\n",
              "            frameborder=\"0\"\n",
              "            allowfullscreen\n",
              "        ></iframe>\n",
              "        "
            ],
            "text/plain": [
              "<IPython.lib.display.YouTubeVideo at 0x7f9cc40c7978>"
            ],
            "image/jpeg": "[encoded data removed]"
          },
          "metadata": {
            "tags": []
          },
          "execution_count": 1
        }
      ]
    },
    {
      "metadata": {
        "id": "vA5Acqe0p1Mt",
        "colab_type": "code",
        "colab": {}
      },
      "cell_type": "code",
      "source": [
        "# These are all the modules we'll be using later. Make sure you can import them\n",
        "# before proceeding further.\n",
        "%matplotlib inline\n",
        "from __future__ import print_function\n",
        "import collections\n",
        "import math\n",
        "import numpy as np\n",
        "import os\n",
        "import random\n",
        "import tensorflow as tf\n",
        "import zipfile\n",
        "from matplotlib import pylab\n",
        "from six.moves import range\n",
        "from six.moves.urllib.request import urlretrieve\n",
        "from sklearn.manifold import TSNE\n",
        "\n",
        "\n"
      ],
      "execution_count": 0,
      "outputs": []
    },
    {
      "metadata": {
        "id": "GZwYUSpPp1Mw",
        "colab_type": "code",
        "colab": {
          "base_uri": "https://localhost:8080/",
          "height": 34
        },
        "outputId": "c891dece-4a8c-420e-c7cd-f987a3b1a897"
      },
      "cell_type": "code",
      "source": [
        "# Lets check what version of tensorflow we have installed. The provided scripts should run with tf 1.0 and above\n",
        "\n",
        "print(tf.__version__)"
      ],
      "execution_count": 3,
      "outputs": [
        {
          "output_type": "stream",
          "text": [
            "1.8.0\n"
          ],
          "name": "stdout"
        }
      ]
    },
    {
      "metadata": {
        "id": "sYek9JvTdJtt",
        "colab_type": "code",
        "colab": {
          "resources": {
            "http://localhost:8080/nbextensions/google.colab/files.js": {
              "data": "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",
              "ok": true,
              "headers": [
                [
                  "content-type",
                  "application/javascript"
                ]
              ],
              "status": 200,
              "status_text": ""
            }
          },
          "base_uri": "https://localhost:8080/",
          "height": 106
        },
        "outputId": "afbca749-eff6-44f9-f01e-e89ee2dcb6b3"
      },
      "cell_type": "code",
      "source": [
        "from google.colab import files\n",
        "uploaded = files.upload()"
      ],
      "execution_count": 5,
      "outputs": [
        {
          "output_type": "display_data",
          "data": {
            "text/html": [
              "\n",
              "     <input type=\"file\" id=\"files-9fa6f8c9-4d3e-4f60-8131-b627198e7cec\" name=\"files[]\" multiple disabled />\n",
              "     <output id=\"result-9fa6f8c9-4d3e-4f60-8131-b627198e7cec\">\n",
              "      Upload widget is only available when the cell has been executed in the\n",
              "      current browser session. Please rerun this cell to enable.\n",
              "      </output>\n",
              "      <script src=\"/nbextensions/google.colab/files.js\"></script> "
            ],
            "text/plain": [
              "<IPython.core.display.HTML object>"
            ]
          },
          "metadata": {
            "tags": []
          }
        },
        {
          "output_type": "stream",
          "text": [
            "Saving preprocessing.py to preprocessing.py\n",
            "Saving text8.zip to text8.zip\n"
          ],
          "name": "stdout"
        }
      ]
    },
    {
      "metadata": {
        "id": "DJY-riDrp1M0",
        "colab_type": "text"
      },
      "cell_type": "markdown",
      "source": [
        "We will use the plain text database from this [link](http://mattmahoney.net/dc/textdata.html)"
      ]
    },
    {
      "metadata": {
        "id": "wLd0rDXrioM5",
        "colab_type": "code",
        "colab": {}
      },
      "cell_type": "code",
      "source": [
        "filename = './text8.zip'\n",
        "#Here I provide some text preprocessing functions\n",
        "import preprocessing"
      ],
      "execution_count": 0,
      "outputs": []
    },
    {
      "metadata": {
        "id": "BJMcRLurp1M4",
        "colab_type": "text"
      },
      "cell_type": "markdown",
      "source": [
        "Read the data into a string"
      ]
    },
    {
      "metadata": {
        "id": "CrK1mB70p1M4",
        "colab_type": "code",
        "colab": {
          "base_uri": "https://localhost:8080/",
          "height": 34
        },
        "outputId": "53729b22-ae74-4c9f-90aa-e95e6aaad20e"
      },
      "cell_type": "code",
      "source": [
        "words = preprocessing.read_data(filename)\n",
        "print('Data size %d' % len(words))"
      ],
      "execution_count": 7,
      "outputs": [
        {
          "output_type": "stream",
          "text": [
            "Data size 17005207\n"
          ],
          "name": "stdout"
        }
      ]
    },
    {
      "metadata": {
        "id": "whWuQh9hp1M9",
        "colab_type": "code",
        "colab": {
          "base_uri": "https://localhost:8080/",
          "height": 34
        },
        "outputId": "3c41615a-481d-474e-9ed7-7816d7597185"
      },
      "cell_type": "code",
      "source": [
        "type(words)"
      ],
      "execution_count": 8,
      "outputs": [
        {
          "output_type": "execute_result",
          "data": {
            "text/plain": [
              "list"
            ]
          },
          "metadata": {
            "tags": []
          },
          "execution_count": 8
        }
      ]
    },
    {
      "metadata": {
        "id": "7SRj65gCp1NA",
        "colab_type": "code",
        "colab": {
          "base_uri": "https://localhost:8080/",
          "height": 54
        },
        "outputId": "362c3d6e-7961-41f4-f74f-332e00091e68"
      },
      "cell_type": "code",
      "source": [
        "print(words[0:20])"
      ],
      "execution_count": 9,
      "outputs": [
        {
          "output_type": "stream",
          "text": [
            "['anarchism', 'originated', 'as', 'a', 'term', 'of', 'abuse', 'first', 'used', 'against', 'early', 'working', 'class', 'radicals', 'including', 'the', 'diggers', 'of', 'the', 'english']\n"
          ],
          "name": "stdout"
        }
      ]
    },
    {
      "metadata": {
        "id": "hRFIz_Nlp1NE",
        "colab_type": "text"
      },
      "cell_type": "markdown",
      "source": [
        "Build the dictionary and replace rare unfrequent words with UNK token. "
      ]
    },
    {
      "metadata": {
        "id": "9wABq_adp1NE",
        "colab_type": "code",
        "colab": {
          "base_uri": "https://localhost:8080/",
          "height": 50
        },
        "outputId": "64d91d21-41f6-4d11-944e-cdd73ec4b518"
      },
      "cell_type": "code",
      "source": [
        "vocabulary_size = 50000\n",
        "\n",
        "data, count, dictionary, reverse_dictionary = preprocessing.build_dataset(vocabulary_size,words)\n",
        "print('Most common words (+UNK)', count[:5])\n",
        "print('Sample data', data[:10])\n",
        "del words  # Hint to reduce memory use."
      ],
      "execution_count": 10,
      "outputs": [
        {
          "output_type": "stream",
          "text": [
            "Most common words (+UNK) [['UNK', 418391], ('the', 1061396), ('of', 593677), ('and', 416629), ('one', 411764)]\n",
            "Sample data [5234, 3081, 12, 6, 195, 2, 3134, 46, 59, 156]\n"
          ],
          "name": "stdout"
        }
      ]
    },
    {
      "metadata": {
        "id": "rjvDlK1yp1NK",
        "colab_type": "text"
      },
      "cell_type": "markdown",
      "source": [
        "**Let**'s display the internal variables to better understand their structure:"
      ]
    },
    {
      "metadata": {
        "id": "2MqQToKIp1NL",
        "colab_type": "code",
        "colab": {
          "base_uri": "https://localhost:8080/",
          "height": 50
        },
        "outputId": "55b16216-eb44-4c87-d2cc-751212262606"
      },
      "cell_type": "code",
      "source": [
        "print(data[:10])\n",
        "print(count[:10])"
      ],
      "execution_count": 11,
      "outputs": [
        {
          "output_type": "stream",
          "text": [
            "[5234, 3081, 12, 6, 195, 2, 3134, 46, 59, 156]\n",
            "[['UNK', 418391], ('the', 1061396), ('of', 593677), ('and', 416629), ('one', 411764), ('in', 372201), ('a', 325873), ('to', 316376), ('zero', 264975), ('nine', 250430)]\n"
          ],
          "name": "stdout"
        }
      ]
    },
    {
      "metadata": {
        "id": "jP9D1gJSp1NP",
        "colab_type": "code",
        "colab": {
          "base_uri": "https://localhost:8080/",
          "height": 50
        },
        "outputId": "245a69ac-c5ac-4632-8703-b05095e96aaa"
      },
      "cell_type": "code",
      "source": [
        "print(list(dictionary.items())[:10])\n",
        "print(list(reverse_dictionary.items())[:10])"
      ],
      "execution_count": 12,
      "outputs": [
        {
          "output_type": "stream",
          "text": [
            "[('UNK', 0), ('the', 1), ('of', 2), ('and', 3), ('one', 4), ('in', 5), ('a', 6), ('to', 7), ('zero', 8), ('nine', 9)]\n",
            "[(0, 'UNK'), (1, 'the'), (2, 'of'), (3, 'and'), (4, 'one'), (5, 'in'), (6, 'a'), (7, 'to'), (8, 'zero'), (9, 'nine')]\n"
          ],
          "name": "stdout"
        }
      ]
    },
    {
      "metadata": {
        "id": "oemhMTnfp1Na",
        "colab_type": "code",
        "colab": {
          "base_uri": "https://localhost:8080/",
          "height": 84
        },
        "outputId": "bd20cc31-18c7-446a-bd5d-cf97bb823266"
      },
      "cell_type": "code",
      "source": [
        "print('The index of the word \"crafty\" in dictionary is %d\\n' %(dictionary['crafty']))\n",
        "print('The word corresponding to the index 875 is %s\\n' %(reverse_dictionary[875]))"
      ],
      "execution_count": 13,
      "outputs": [
        {
          "output_type": "stream",
          "text": [
            "The index of the word \"crafty\" in dictionary is 39018\n",
            "\n",
            "The word corresponding to the index 875 is edition\n",
            "\n"
          ],
          "name": "stdout"
        }
      ]
    },
    {
      "metadata": {
        "id": "QRrhxYUcp1Nj",
        "colab_type": "text"
      },
      "cell_type": "markdown",
      "source": [
        "## Generating training batches"
      ]
    },
    {
      "metadata": {
        "id": "4Tq8ZY8yp1Nk",
        "colab_type": "text"
      },
      "cell_type": "markdown",
      "source": [
        "The function 'preprocessing.generate_batch' generates training batchs for the skip-gram model.\n",
        "\n",
        "\n",
        "<img src=\"Fig1.png\" width=\"600\" height=\"400\">\n",
        "\n",
        "Figure borrowed from this [post](http://mccormickml.com/2016/04/19/word2vec-tutorial-the-skip-gram-model/)."
      ]
    },
    {
      "metadata": {
        "id": "qUfVjc08p1Nl",
        "colab_type": "code",
        "colab": {
          "base_uri": "https://localhost:8080/",
          "height": 121
        },
        "outputId": "7a0e0ff7-b3a5-4b8f-97f2-0bcbc32cbf07"
      },
      "cell_type": "code",
      "source": [
        "data_index = 0\n",
        "\n",
        "\"\"\"Generate a batch of data for training.\n",
        "    Args:\n",
        "        batch_size: Number of samples to generate in the batch.\n",
        "        \n",
        "        skip_window:# How many words to consider left and right.\n",
        "        \n",
        "            How many words to consider around the target word, left and right.\n",
        "            With skip_window=2, in the sentence above for \"consider\" we'll\n",
        "            build the window [words, to, consider, around, the].\n",
        "            \n",
        "        num_skips: How many times to reuse an input to generate a label.\n",
        "        \n",
        "            For skip-gram, we map target word to adjacent words in the window\n",
        "            around it. This parameter says how many adjacent word mappings to\n",
        "            add to the batch for each target word. Naturally it can't be more\n",
        "            than skip_window * 2.\n",
        "            \n",
        "    Returns:\n",
        "        batch, labels - ndarrays with IDs.\n",
        "        batch: Row vector of size batch_size containing target words.\n",
        "        labels:\n",
        "            Column vector of size batch_size containing a randomly selected\n",
        "            adjacent word for every target word in 'batch'.\n",
        "    \"\"\"\n",
        "\n",
        "\n",
        "print('data:', [reverse_dictionary[di] for di in data[:32]])\n",
        "\n",
        "for num_skips, skip_window in [(2, 4)]:\n",
        "    data_index = 0\n",
        "    batch, labels = preprocessing.generate_batch(data, data_index, batch_size=16, num_skips=num_skips, skip_window=skip_window)\n",
        "    print('\\nwith num_skips = %d and skip_window = %d:' % (num_skips, skip_window))\n",
        "    print('    batch:', [reverse_dictionary[bi] for bi in batch])\n",
        "    print('    labels:', [reverse_dictionary[li] for li in labels.reshape(16)])"
      ],
      "execution_count": 14,
      "outputs": [
        {
          "output_type": "stream",
          "text": [
            "data: ['anarchism', 'originated', 'as', 'a', 'term', 'of', 'abuse', 'first', 'used', 'against', 'early', 'working', 'class', 'radicals', 'including', 'the', 'diggers', 'of', 'the', 'english', 'revolution', 'and', 'the', 'sans', 'UNK', 'of', 'the', 'french', 'revolution', 'whilst', 'the', 'term']\n",
            "\n",
            "with num_skips = 2 and skip_window = 4:\n",
            "    batch: ['term', 'term', 'of', 'of', 'abuse', 'abuse', 'first', 'first', 'used', 'used', 'against', 'against', 'early', 'early', 'working', 'working']\n",
            "    labels: ['first', 'abuse', 'as', 'abuse', 'of', 'term', 'early', 'a', 'first', 'of', 'working', 'early', 'abuse', 'used', 'including', 'class']\n"
          ],
          "name": "stdout"
        }
      ]
    },
    {
      "metadata": {
        "id": "8KtT_fv-p1Nu",
        "colab_type": "text"
      },
      "cell_type": "markdown",
      "source": [
        "## Using the above data set, now we train a skip-gram model!"
      ]
    },
    {
      "metadata": {
        "id": "9RHhoIzTp1Nv",
        "colab_type": "text"
      },
      "cell_type": "markdown",
      "source": [
        "The following [link](http://mccormickml.com/2016/04/19/word2vec-tutorial-the-skip-gram-model/) gives a very simple explanation of the model. The following figures are borrowed from that post.\n",
        "\n",
        "<img src=\"Fig2.png\" width=\"600\" height=\"400\">\n",
        "\n",
        "<img src=\"Fig3.png\" width=\"600\" height=\"400\">"
      ]
    },
    {
      "metadata": {
        "id": "xhxIVgnSp1Nw",
        "colab_type": "code",
        "colab": {
          "base_uri": "https://localhost:8080/",
          "height": 222
        },
        "outputId": "0d7fe57f-6002-4476-c921-c25c39c7d721"
      },
      "cell_type": "code",
      "source": [
        "batch_size = 32\n",
        "embedding_size = 128 # Dimension of the embedding vector.\n",
        "skip_window = 1 # How many words to consider left and right.\n",
        "num_skips = 2 # How many times to reuse an input to generate a label.\n",
        "\n",
        "# We pick a random validation set to sample nearest neighbors. here we limit the\n",
        "# validation samples to the words that have a low numeric ID, which by\n",
        "# construction are also the most frequent. \n",
        "valid_size = 32 # Random set of words to evaluate similarity on.\n",
        "valid_window = 200 # Only pick samples in the head of the distribution.\n",
        "valid_examples = np.array(random.sample(range(valid_window), valid_size))\n",
        "\n",
        "num_sampled = 64 # Number of negative examples to sample.\n",
        "\n",
        "graph = tf.Graph()\n",
        "\n",
        "with graph.as_default(), tf.device('/cpu:0'):\n",
        "\n",
        "    # Input data.\n",
        "    train_dataset = tf.placeholder(tf.int32, shape=[batch_size])\n",
        "    train_labels = tf.placeholder(tf.int32, shape=[batch_size, 1])\n",
        "    valid_dataset = tf.constant(valid_examples, dtype=tf.int32)\n",
        "  \n",
        "    # Variables.\n",
        "    embeddings = tf.Variable(tf.random_uniform([vocabulary_size, embedding_size], -1.0, 1.0))\n",
        "    softmax_weights = tf.Variable(\n",
        "        tf.truncated_normal([vocabulary_size, embedding_size],stddev=1.0 / math.sqrt(embedding_size)))\n",
        "    softmax_biases = tf.Variable(tf.zeros([vocabulary_size]))\n",
        "  \n",
        "    # Model.\n",
        "    # Look up embeddings for inputs. YOU DON'T NEED THE ONE HOT ENCODING FOR THE INPUT!!!! \n",
        "    embed = tf.nn.embedding_lookup(embeddings, train_dataset)\n",
        "    # Compute the softmax loss, using a sample of the negative labels each time.\n",
        "    loss = tf.reduce_mean(tf.nn.sampled_softmax_loss(softmax_weights, softmax_biases, train_labels, \n",
        "                                                     embed, num_sampled, vocabulary_size))\n",
        "\n",
        "    # Optimizer.\n",
        "    optimizer = tf.train.AdagradOptimizer(1.0).minimize(loss)\n",
        "  \n",
        "    # Compute the similarity between minibatch examples and all embeddings.\n",
        "    # We use the cosine distance:\n",
        "    norm = tf.sqrt(tf.reduce_sum(tf.square(embeddings), 1, keep_dims=True))\n",
        "    normalized_embeddings = embeddings / norm\n",
        "    valid_embeddings = tf.nn.embedding_lookup(normalized_embeddings, valid_dataset)\n",
        "    similarity = tf.matmul(valid_embeddings, tf.transpose(normalized_embeddings))"
      ],
      "execution_count": 15,
      "outputs": [
        {
          "output_type": "stream",
          "text": [
            "WARNING:tensorflow:From /usr/local/lib/python3.6/dist-packages/tensorflow/python/ops/nn_impl.py:1344: softmax_cross_entropy_with_logits (from tensorflow.python.ops.nn_ops) is deprecated and will be removed in a future version.\n",
            "Instructions for updating:\n",
            "\n",
            "Future major versions of TensorFlow will allow gradients to flow\n",
            "into the labels input on backprop by default.\n",
            "\n",
            "See @{tf.nn.softmax_cross_entropy_with_logits_v2}.\n",
            "\n",
            "WARNING:tensorflow:From <ipython-input-15-57e864e7f965>:42: calling reduce_sum (from tensorflow.python.ops.math_ops) with keep_dims is deprecated and will be removed in a future version.\n",
            "Instructions for updating:\n",
            "keep_dims is deprecated, use keepdims instead\n"
          ],
          "name": "stdout"
        }
      ]
    },
    {
      "metadata": {
        "id": "ZUSnsGfBp1N0",
        "colab_type": "code",
        "colab": {
          "base_uri": "https://localhost:8080/",
          "height": 3578
        },
        "outputId": "9ec97c67-7d1c-44c2-b02c-4a1e5ae5019f"
      },
      "cell_type": "code",
      "source": [
        "num_steps = 100001\n",
        "data_index = 0\n",
        "\n",
        "with tf.Session(graph=graph) as session:\n",
        "    tf.global_variables_initializer().run()\n",
        "    print('Initialized')\n",
        "    average_loss = 0\n",
        "    for step in range(num_steps):\n",
        "\n",
        "        batch_data, batch_labels = preprocessing.generate_batch(data,data_index,batch_size, num_skips, skip_window) \n",
        "        data_index = (data_index + batch_size) % len(data)\n",
        "        \n",
        "        feed_dict = {train_dataset : batch_data, train_labels : batch_labels}\n",
        "        _, l = session.run([optimizer, loss], feed_dict=feed_dict)\n",
        "        average_loss += l\n",
        "        if step % 2000 == 0:\n",
        "            if step > 0:\n",
        "                average_loss = average_loss / 2000\n",
        "            # The average loss is an estimate of the loss over the last 2000 batches.\n",
        "            print('Average loss at step %d: %f' % (step, average_loss))\n",
        "            average_loss = 0\n",
        "            \n",
        "        # note that this is expensive (~20% slowdown if computed every 500 steps)\n",
        "        if step % 25000 == 0:\n",
        "            sim = similarity.eval()\n",
        "            for i in range(valid_size):\n",
        "                valid_word = reverse_dictionary[valid_examples[i]]\n",
        "                top_k = 8 # number of nearest neighbors\n",
        "                nearest = (-sim[i, :]).argsort()[1:top_k+1]\n",
        "                log = 'Nearest to %s:' % valid_word\n",
        "                for k in range(top_k):\n",
        "                    close_word = reverse_dictionary[nearest[k]]\n",
        "                    log = '%s %s,' % (log, close_word)\n",
        "                print(log)\n",
        "    \n",
        "    final_embeddings = normalized_embeddings.eval()"
      ],
      "execution_count": 16,
      "outputs": [
        {
          "output_type": "stream",
          "text": [
            "Initialized\n",
            "Average loss at step 0: 7.274815\n",
            "Nearest to another: abidjan, defence, celtiberian, encoded, gladstone, differentiating, gossip, strain,\n",
            "Nearest to french: airshows, causality, nigger, fremont, withdrawn, coalitions, ciii, pomona,\n",
            "Nearest to number: dominatrices, cagliari, semitone, caplan, beset, thierry, inept, mindaugas,\n",
            "Nearest to one: ceawlin, irregularly, adorno, fy, cays, outlines, swimmers, crystallized,\n",
            "Nearest to first: supervisory, pei, hooker, neh, curtis, chandra, matrimonial, tasteless,\n",
            "Nearest to known: brotherly, sheik, merrill, hominid, nepeta, averted, logograms, diesels,\n",
            "Nearest to were: psp, haznawi, obliterated, kut, aalto, panth, beijing, decatur,\n",
            "Nearest to year: theorems, hr, spongebob, cremona, accreditation, dish, excessive, cracow,\n",
            "Nearest to over: fermanagh, masoretes, geo, stop, distinctly, env, rosa, decolonization,\n",
            "Nearest to both: iupac, inconclusive, refrigerants, diaspora, i, sheng, dining, barre,\n",
            "Nearest to she: tachi, cthulhu, oglethorpe, chromic, cham, ramsey, uncontrolled, climbers,\n",
            "Nearest to king: converse, wendell, biomass, warfield, darshan, help, myron, mejid,\n",
            "Nearest to day: falconer, neuroimaging, oxidation, rabbits, supplier, pirin, faisal, guyer,\n",
            "Nearest to often: baptized, return, pinochet, villains, ergonomics, witold, expressionist, discredited,\n",
            "Nearest to can: ooze, yamasaki, redundantly, silks, funakoshi, creek, accompanied, apartment,\n",
            "Nearest to most: pomeroy, jainism, bested, noticed, buyers, xanadu, milestones, ineffective,\n",
            "Nearest to long: qumran, typically, overzealous, publicist, bulky, reluctantly, flavian, pleas,\n",
            "Nearest to de: boer, chapin, affects, goidelic, accumulate, sideshow, predictive, persuasion,\n",
            "Nearest to which: provincias, hypothalamus, plunged, find, langerhans, reworking, presse, entombed,\n",
            "Nearest to when: altimeter, displaced, jolie, noumenon, nominated, procedures, whichever, hunting,\n",
            "Nearest to united: sts, linea, doomsday, cve, isoroku, filtration, marked, danger,\n",
            "Nearest to have: lovelace, undetermined, organised, nigel, submarine, lw, castillo, geographically,\n",
            "Nearest to d: acceleration, lonergan, timeframe, structure, propellants, mich, screename, sayyaf,\n",
            "Nearest to what: bellini, inspires, scriptorium, carriers, chaotic, nacl, interlinked, rendezvous,\n",
            "Nearest to x: boxer, pesticides, mart, miracle, martyrdom, arboreal, haworth, transmigration,\n",
            "Nearest to term: discordian, forti, prequel, hey, lose, schools, shrunk, maniac,\n",
            "Nearest to nine: konerko, loader, pergamon, ivory, ranged, mindanao, corrections, uncovering,\n",
            "Nearest to south: bootstrapping, telecast, forties, thither, lucrezia, lula, s, adapters,\n",
            "Nearest to much: escorting, frankish, mcelroy, cemented, dactyl, taoist, lasso, jellicoe,\n",
            "Nearest to t: contestants, gyeongsang, proliferation, rosicrucians, hara, cois, lynching, halves,\n",
            "Nearest to them: niels, goggles, netbios, ojibwa, incur, mongols, papandreou, grossman,\n",
            "Nearest to book: fretted, evaluated, wingers, looms, anticipate, abraxas, thanksgiving, clarification,\n",
            "Average loss at step 2000: 4.644600\n",
            "Average loss at step 4000: 4.153806\n",
            "Average loss at step 6000: 4.029080\n",
            "Average loss at step 8000: 3.793485\n",
            "Average loss at step 10000: 3.810536\n",
            "Average loss at step 12000: 3.876961\n",
            "Average loss at step 14000: 3.776420\n",
            "Average loss at step 16000: 3.750290\n",
            "Average loss at step 18000: 3.602164\n",
            "Average loss at step 20000: 3.707844\n",
            "Average loss at step 22000: 3.768462\n",
            "Average loss at step 24000: 3.594337\n",
            "Nearest to another: the, rzeczypospolitej, its, aglaulus, dramas, intercession, incursion, codification,\n",
            "Nearest to french: nebula, dotted, julia, neustria, british, napol, website, tremblay,\n",
            "Nearest to number: set, values, variety, hurricane, detrimental, group, fragile, vickers,\n",
            "Nearest to one: two, four, eight, five, six, seven, three, transshipment,\n",
            "Nearest to first: last, same, second, dvb, brokerage, kirsten, skaro, conjunctions,\n",
            "Nearest to known: such, well, being, understood, used, cramped, dz, thereof,\n",
            "Nearest to were: are, being, never, but, so, have, while, was,\n",
            "Nearest to year: avar, seventh, hemisphere, dynamically, platonic, ves, flurry, amiens,\n",
            "Nearest to over: pursued, since, beatty, rube, from, kush, refuel, devi,\n",
            "Nearest to both: hang, which, these, stepwise, earls, uncompromising, popular, niv,\n",
            "Nearest to she: they, he, who, never, it, ashikaga, stylistically, mh,\n",
            "Nearest to king: aucklanders, aliases, pointer, inept, jedwabne, industrialized, nanotube, shoal,\n",
            "Nearest to day: champions, head, oceania, pearl, sunni, apostasy, contends, ballantine,\n",
            "Nearest to often: there, still, usually, also, now, not, never, commonly,\n",
            "Nearest to can: may, would, could, will, must, should, to, cannot,\n",
            "Nearest to most: more, minted, marwan, reconquista, foregone, catapulted, cielo, abdomen,\n",
            "Nearest to long: qumran, mordechai, eclectic, macao, sympathies, having, amniotic, scruggs,\n",
            "Nearest to de: b, chapin, integrating, guiana, boer, khoi, nullify, akihabara,\n",
            "Nearest to which: this, it, there, both, they, still, often, that,\n",
            "Nearest to when: if, where, before, though, was, until, through, within,\n",
            "Nearest to united: diss, allegorical, confidently, royal, masterpiece, reuptake, giger, copernican,\n",
            "Nearest to have: had, be, has, consider, terrain, wreck, say, make,\n",
            "Nearest to d: b, acceleration, urals, azzam, metaphors, american, nouveaux, devonport,\n",
            "Nearest to what: defeating, that, it, lattices, necessary, still, which, cobra,\n",
            "Nearest to x: totaling, mart, checker, rhodes, catharine, romulus, boxer, ltd,\n",
            "Nearest to term: antitrust, discordian, accumulating, terrell, jousting, obsession, shading, sweetened,\n",
            "Nearest to nine: eight, four, seven, five, six, zero, three, two,\n",
            "Nearest to south: north, constructive, rail, dianic, provides, bootstrapping, layering, west,\n",
            "Nearest to much: than, far, well, laconic, many, reflectors, woodcuts, tent,\n",
            "Nearest to t: britanniae, hara, repellent, ulema, preprint, lightsabers, gdynia, automobiles,\n",
            "Nearest to them: him, participate, touch, utilise, up, incidents, gaeilge, ugle,\n",
            "Nearest to book: monastic, that, caitlin, structured, mmorpg, wife, etymologies, trachea,\n",
            "Average loss at step 26000: 3.668402\n",
            "Average loss at step 28000: 3.653425\n",
            "Average loss at step 30000: 3.492564\n",
            "Average loss at step 32000: 3.502813\n",
            "Average loss at step 34000: 3.387564\n",
            "Average loss at step 36000: 3.497125\n",
            "Average loss at step 38000: 3.586372\n",
            "Average loss at step 40000: 3.670713\n"
          ],
          "name": "stdout"
        },
        {
          "output_type": "stream",
          "text": [
            "Average loss at step 42000: 3.509681\n",
            "Average loss at step 44000: 3.562102\n",
            "Average loss at step 46000: 3.509031\n",
            "Average loss at step 48000: 3.543223\n",
            "Average loss at step 50000: 3.588416\n",
            "Nearest to another: the, shrimp, expelled, traps, ica, pines, any, issas,\n",
            "Nearest to french: austrian, japanese, british, english, german, greek, italian, causality,\n",
            "Nearest to number: type, numbers, result, set, collection, amount, variety, group,\n",
            "Nearest to one: seven, two, eight, six, four, nine, five, three,\n",
            "Nearest to first: last, second, next, same, original, following, ganglion, kirsten,\n",
            "Nearest to known: such, used, served, well, described, seen, important, quill,\n",
            "Nearest to were: are, was, had, is, could, will, vin, became,\n",
            "Nearest to year: years, time, day, century, teaching, sinned, world, beset,\n",
            "Nearest to over: confidently, trusteeship, through, at, prolog, farkas, from, patch,\n",
            "Nearest to both: depressions, tolson, freeway, convenes, performances, hang, which, nubian,\n",
            "Nearest to she: he, they, it, mistletoe, who, hmg, actually, there,\n",
            "Nearest to king: emperor, iii, prince, ishaq, president, recommending, god, credits,\n",
            "Nearest to day: year, time, hellish, allocation, materiel, pleases, century, dakota,\n",
            "Nearest to often: frequently, still, sometimes, now, commonly, never, usually, also,\n",
            "Nearest to can: may, will, could, would, must, should, might, cannot,\n",
            "Nearest to most: reconquista, more, several, all, among, churchmen, sena, poudre,\n",
            "Nearest to long: short, larwood, collapsed, classics, latitude, seperate, vocational, kannapolis,\n",
            "Nearest to de: et, l, enniskillen, nullify, louis, aldus, le, australopithecus,\n",
            "Nearest to which: that, also, what, adorning, who, migratory, inflicting, there,\n",
            "Nearest to when: where, birger, wrote, after, though, besides, but, within,\n",
            "Nearest to united: national, giger, confederate, senate, southern, fundamentalism, diss, largest,\n",
            "Nearest to have: has, had, be, refer, consider, are, require, were,\n",
            "Nearest to d: b, american, swedish, japanese, minimizes, hymnody, feldspar, nord,\n",
            "Nearest to what: that, which, how, survivals, invariably, why, whom, alameda,\n",
            "Nearest to x: r, cruel, caine, t, sgml, dat, racquets, n,\n",
            "Nearest to term: word, constitutionalism, omnium, shading, katakana, mustafa, ensues, sounded,\n",
            "Nearest to nine: eight, seven, zero, six, four, five, three, two,\n",
            "Nearest to south: north, west, east, vcs, central, layering, dianic, eastern,\n",
            "Nearest to much: far, than, well, part, reflectors, bullough, woodcuts, sedans,\n",
            "Nearest to t: rfc, britanniae, x, blurry, theobald, UNK, falun, n,\n",
            "Nearest to them: him, up, back, their, themselves, voters, ghali, you,\n",
            "Nearest to book: doomed, truth, hutchison, hurt, trivium, recoil, story, authenticity,\n",
            "Average loss at step 52000: 3.499860\n",
            "Average loss at step 54000: 3.537359\n",
            "Average loss at step 56000: 3.586974\n",
            "Average loss at step 58000: 3.486277\n",
            "Average loss at step 60000: 3.513638\n",
            "Average loss at step 62000: 3.588442\n",
            "Average loss at step 64000: 3.528778\n",
            "Average loss at step 66000: 3.559947\n",
            "Average loss at step 68000: 3.491908\n",
            "Average loss at step 70000: 3.576211\n",
            "Average loss at step 72000: 3.514232\n",
            "Average loss at step 74000: 3.570671\n",
            "Nearest to another: its, a, issas, purified, wildly, hamster, disproving, foods,\n",
            "Nearest to french: austrian, dutch, german, english, russian, spanish, italian, greek,\n",
            "Nearest to number: set, variety, numbers, majority, sum, amount, collection, result,\n",
            "Nearest to one: seven, four, three, two, six, five, nine, eight,\n",
            "Nearest to first: second, next, last, final, same, handedness, fourth, entire,\n",
            "Nearest to known: such, well, thane, described, adjacency, defined, used, served,\n",
            "Nearest to were: are, include, is, these, was, grandchildren, while, by,\n",
            "Nearest to year: years, time, week, ghulam, episode, hours, twenty, winning,\n",
            "Nearest to over: onto, useful, clary, least, spartan, prep, merton, belligerent,\n",
            "Nearest to both: and, several, especially, smoker, solferino, bouts, wedded, norfolk,\n",
            "Nearest to she: he, it, they, never, later, who, revealed, ever,\n",
            "Nearest to king: emperor, prince, saint, disavow, lloyd, god, hurdle, cai,\n",
            "Nearest to day: champions, period, materiel, rescuers, chapter, century, strachey, donoghue,\n",
            "Nearest to often: usually, sometimes, commonly, now, still, generally, frequently, widely,\n",
            "Nearest to can: will, would, could, must, should, might, may, cannot,\n",
            "Nearest to most: more, among, media, sena, lebeau, commonwealth, cries, u,\n",
            "Nearest to long: short, latitude, suffered, final, classics, festive, evolved, nisan,\n",
            "Nearest to de: et, nsted, die, pity, globin, krylov, rabbi, le,\n",
            "Nearest to which: that, often, generally, who, it, now, also, he,\n",
            "Nearest to when: if, where, until, thanking, during, before, caicos, handloading,\n",
            "Nearest to united: senate, supreme, giger, european, following, xs, confederate, british,\n",
            "Nearest to have: had, has, fraternal, be, belong, seek, are, maintain,\n",
            "Nearest to d: b, corundum, x, deneb, c, harburg, meherabad, inferiority,\n",
            "Nearest to what: why, probably, which, allegedly, thought, alameda, that, think,\n",
            "Nearest to x: c, h, e, d, sgml, overflowing, n, caine,\n",
            "Nearest to term: name, noi, conspicuous, after, palace, grasped, nbs, levinson,\n",
            "Nearest to nine: seven, six, eight, four, zero, three, five, two,\n",
            "Nearest to south: north, west, central, east, northwest, western, northern, eastern,\n",
            "Nearest to much: far, than, well, slightly, part, bingu, minerals, stadtbahn,\n",
            "Nearest to t: you, we, hara, i, harman, must, shall, could,\n",
            "Nearest to them: him, up, themselves, me, ghali, fucking, fables, either,\n",
            "Nearest to book: books, line, music, shipping, story, version, etymologies, borders,\n",
            "Average loss at step 76000: 3.378898\n",
            "Average loss at step 78000: 3.203009\n",
            "Average loss at step 80000: 3.541236\n",
            "Average loss at step 82000: 3.498365\n",
            "Average loss at step 84000: 3.413405\n",
            "Average loss at step 86000: 3.523393\n",
            "Average loss at step 88000: 3.441446\n",
            "Average loss at step 90000: 3.536927\n",
            "Average loss at step 92000: 3.487357\n"
          ],
          "name": "stdout"
        },
        {
          "output_type": "stream",
          "text": [
            "Average loss at step 94000: 3.483264\n",
            "Average loss at step 96000: 3.510709\n",
            "Average loss at step 98000: 3.397119\n",
            "Average loss at step 100000: 3.400614\n",
            "Nearest to another: a, topographic, this, morrie, ockham, ilp, schneider, vp,\n",
            "Nearest to french: german, austrian, greek, japanese, british, spanish, dutch, european,\n",
            "Nearest to number: amount, majority, numbers, variety, part, result, type, lot,\n",
            "Nearest to one: three, two, seven, four, six, eight, five, nine,\n",
            "Nearest to first: second, last, next, previous, same, final, original, third,\n",
            "Nearest to known: used, such, defined, described, recognized, well, regarded, available,\n",
            "Nearest to were: are, was, is, had, have, been, including, pragmatic,\n",
            "Nearest to year: minute, centuries, week, time, ghulam, season, game, days,\n",
            "Nearest to over: on, from, into, through, chatter, farkas, latham, to,\n",
            "Nearest to both: agricultural, several, which, smelting, networks, schools, numerous, duplicates,\n",
            "Nearest to she: he, it, bonds, revealed, unethical, they, who, ruth,\n",
            "Nearest to king: emperor, god, son, prince, parkinson, iii, children, credits,\n",
            "Nearest to day: period, cologne, champions, lobby, babbitt, night, salesman, motherhood,\n",
            "Nearest to often: sometimes, commonly, generally, usually, always, still, frequently, widely,\n",
            "Nearest to can: could, might, should, will, may, cannot, would, must,\n",
            "Nearest to most: more, particularly, especially, extremely, less, largest, cielo, restorations,\n",
            "Nearest to long: short, vargas, esas, bogged, scenario, wide, just, evolved,\n",
            "Nearest to de: et, globin, und, planters, unspecified, sadd, stanislavski, bullpen,\n",
            "Nearest to which: also, that, who, this, tricky, but, typically, based,\n",
            "Nearest to when: however, where, before, as, though, although, if, furthermore,\n",
            "Nearest to united: giger, wgn, emulate, knot, senate, existence, canada, legislature,\n",
            "Nearest to have: had, has, be, having, were, tend, refer, fraternal,\n",
            "Nearest to d: p, x, atonality, b, spokesperson, covariance, zz, esque,\n",
            "Nearest to what: said, how, think, it, believed, that, however, why,\n",
            "Nearest to x: f, m, g, n, p, r, z, v,\n",
            "Nearest to term: word, name, terms, unrest, noi, period, reichstag, pocket,\n",
            "Nearest to nine: eight, seven, five, six, three, four, zero, two,\n",
            "Nearest to south: west, north, central, northwest, coast, east, surprises, bronx,\n",
            "Nearest to much: far, than, little, frequently, considerably, recently, somewhat, slightly,\n",
            "Nearest to t: you, i, we, abjuration, not, must, hara, attached,\n",
            "Nearest to them: him, themselves, out, god, me, tennyson, not, go,\n",
            "Nearest to book: gospel, kind, truth, story, moment, books, idea, peopled,\n"
          ],
          "name": "stdout"
        }
      ]
    },
    {
      "metadata": {
        "id": "t-r6Kjdyp1N4",
        "colab_type": "text"
      },
      "cell_type": "markdown",
      "source": [
        "This is what an embedding looks like:"
      ]
    },
    {
      "metadata": {
        "id": "CmbVo00op1N5",
        "colab_type": "code",
        "colab": {
          "base_uri": "https://localhost:8080/",
          "height": 386
        },
        "outputId": "992513d7-f8eb-423c-b4fb-42083f3f19d6"
      },
      "cell_type": "code",
      "source": [
        "print(final_embeddings[2,:])"
      ],
      "execution_count": 17,
      "outputs": [
        {
          "output_type": "stream",
          "text": [
            "[ 0.00032738  0.05663204 -0.07014162  0.05121109  0.02005477  0.06184473\n",
            "  0.14605443  0.10905416 -0.02534788  0.09594094  0.07936304 -0.05792453\n",
            "  0.09118592 -0.00416075  0.01920145  0.10676379 -0.11933575  0.03001069\n",
            " -0.04761998 -0.08286639 -0.06604931  0.11490341  0.15568604  0.03568188\n",
            " -0.12299903  0.00207039  0.02881883 -0.16036919  0.12506886 -0.01558313\n",
            "  0.05033581  0.1457811   0.08718804 -0.10990454  0.11955182 -0.11948705\n",
            "  0.00432059 -0.01368893 -0.16185914  0.08252367  0.11637206  0.00717935\n",
            " -0.03900918 -0.1731957   0.1495579   0.0503822  -0.1352319  -0.04658103\n",
            "  0.0768877   0.12425905  0.00771191 -0.01857281 -0.1009279  -0.03582491\n",
            "  0.04156055 -0.0112346   0.05393325 -0.07486295 -0.06131776 -0.04750874\n",
            "  0.11361694 -0.07845064 -0.10549053  0.0159348   0.02376924 -0.11020185\n",
            "  0.04641565  0.05221644  0.09070696 -0.08853879 -0.06306712 -0.12171648\n",
            " -0.13041285 -0.09809791  0.02331202 -0.18658464  0.07607488 -0.0280657\n",
            " -0.02315609  0.04175004 -0.07951939 -0.05351993 -0.0425498   0.11311134\n",
            "  0.19377005 -0.13961911  0.03277793  0.00761236  0.02905341 -0.02353977\n",
            " -0.0089146   0.02615112 -0.01892994 -0.1479547   0.03653565  0.07012685\n",
            " -0.17380056  0.02405436 -0.02107512 -0.04944884  0.00553651 -0.01128067\n",
            "  0.12374138  0.16491017 -0.03631126  0.06570332 -0.03672098 -0.1394163\n",
            " -0.21024175  0.05510226 -0.02069415 -0.22280368 -0.01655787  0.05101934\n",
            " -0.03882885  0.02700656  0.00299231 -0.07971618 -0.05302251 -0.04454714\n",
            "  0.21514557 -0.04775306  0.08508725 -0.03452436 -0.00478116  0.03750042\n",
            "  0.01878751  0.02127349]\n"
          ],
          "name": "stdout"
        }
      ]
    },
    {
      "metadata": {
        "id": "tkYtoDyop1N-",
        "colab_type": "text"
      },
      "cell_type": "markdown",
      "source": [
        "The embeddings have unit norm!"
      ]
    },
    {
      "metadata": {
        "id": "DwtunOxep1N-",
        "colab_type": "code",
        "colab": {
          "base_uri": "https://localhost:8080/",
          "height": 34
        },
        "outputId": "1dc84879-9267-46a6-c692-2876d7bc08cb"
      },
      "cell_type": "code",
      "source": [
        "print(np.sum(np.square(final_embeddings[40000,:])))"
      ],
      "execution_count": 18,
      "outputs": [
        {
          "output_type": "stream",
          "text": [
            "1.0000004\n"
          ],
          "name": "stdout"
        }
      ]
    },
    {
      "metadata": {
        "id": "BY6wqWiIp1OB",
        "colab_type": "text"
      },
      "cell_type": "markdown",
      "source": [
        "Now we project the emmbeding vectors into a 2-dimensional space using [TSNE](https://lvdmaaten.github.io/publications/papers/JMLR_2008.pdf)\n",
        "\n",
        "We use the [TSNE sklearn implementation](https://lvdmaaten.github.io/publications/papers/JMLR_2008.pdf)"
      ]
    },
    {
      "metadata": {
        "id": "Q8j-Vrdup1OC",
        "colab_type": "code",
        "colab": {}
      },
      "cell_type": "code",
      "source": [
        "num_points = 200\n",
        "\n",
        "tsne = TSNE(perplexity=30, n_components=2, init='pca', n_iter=500)\n",
        "\n",
        "two_d_embeddings = tsne.fit_transform(final_embeddings[1:num_points+1, :])"
      ],
      "execution_count": 0,
      "outputs": []
    },
    {
      "metadata": {
        "id": "Crhg7RwVp1OE",
        "colab_type": "text"
      },
      "cell_type": "markdown",
      "source": [
        "Lets visualize the result"
      ]
    },
    {
      "metadata": {
        "id": "rBa1BqJCp1OF",
        "colab_type": "code",
        "colab": {
          "base_uri": "https://localhost:8080/",
          "height": 917
        },
        "outputId": "31f86502-3c9a-4df2-e4d7-519d30b8ea08"
      },
      "cell_type": "code",
      "source": [
        "def plot(embeddings, labels):\n",
        "    print(labels)\n",
        "    assert embeddings.shape[0] >= len(labels), 'More labels than embeddings'\n",
        "    pylab.figure(figsize=(15,15))  # in inches\n",
        "    print(embeddings.shape)\n",
        "    for i, label in enumerate(labels):\n",
        "        x, y = embeddings[i,:]\n",
        "        pylab.scatter(x, y)\n",
        "        pylab.annotate(label, xy=(x, y), xytext=(5, 2), textcoords='offset points',ha='right', va='bottom')\n",
        "    pylab.show()\n",
        "\n",
        "words = [reverse_dictionary[i] for i in range(1, num_points+1)]\n",
        "plot(two_d_embeddings, words)"
      ],
      "execution_count": 20,
      "outputs": [
        {
          "output_type": "stream",
          "text": [
            "['the', 'of', 'and', 'one', 'in', 'a', 'to', 'zero', 'nine', 'two', 'is', 'as', 'eight', 'for', 's', 'five', 'three', 'was', 'by', 'that', 'four', 'six', 'seven', 'with', 'on', 'are', 'it', 'from', 'or', 'his', 'an', 'be', 'this', 'which', 'at', 'he', 'also', 'not', 'have', 'were', 'has', 'but', 'other', 'their', 'its', 'first', 'they', 'some', 'had', 'all', 'more', 'most', 'can', 'been', 'such', 'many', 'who', 'new', 'used', 'there', 'after', 'when', 'into', 'american', 'time', 'these', 'only', 'see', 'may', 'than', 'world', 'i', 'b', 'would', 'd', 'no', 'however', 'between', 'about', 'over', 'years', 'states', 'people', 'war', 'during', 'united', 'known', 'if', 'called', 'use', 'th', 'system', 'often', 'state', 'so', 'history', 'will', 'up', 'while', 'where', 'city', 'being', 'english', 'then', 'any', 'both', 'under', 'out', 'made', 'well', 'her', 'e', 'number', 'government', 'them', 'm', 'later', 'since', 'him', 'part', 'name', 'c', 'century', 'through', 'because', 'x', 'university', 'early', 'life', 'british', 'year', 'like', 'same', 'including', 'became', 'example', 'day', 'each', 'even', 'work', 'language', 'although', 'several', 'form', 'john', 'u', 'national', 'very', 'much', 'g', 'french', 'before', 'general', 'what', 't', 'against', 'n', 'high', 'links', 'could', 'based', 'those', 'now', 'second', 'de', 'music', 'another', 'large', 'she', 'f', 'external', 'german', 'different', 'modern', 'great', 'do', 'common', 'set', 'list', 'south', 'series', 'major', 'game', 'power', 'long', 'country', 'king', 'law', 'group', 'film', 'still', 'until', 'north', 'international', 'term', 'we', 'end', 'book', 'found', 'own']\n",
            "(200, 2)\n"
          ],
          "name": "stdout"
        },
        {
          "output_type": "display_data",
          "data": {
            "image/png": "[encoded data removed]",
            "text/plain": [
              "<matplotlib.figure.Figure at 0x7f3f7c95e7b8>"
            ]
          },
          "metadata": {
            "tags": []
          }
        }
      ]
    },
    {
      "metadata": {
        "id": "fC6W2NTlp1OI",
        "colab_type": "text"
      },
      "cell_type": "markdown",
      "source": [
        "## Problem 4\n",
        "\n",
        "1) Evaluate the efect of the number of negative samples used for the sampled soft max loss.\n",
        "\n",
        "2) In the original [wor2vec paper](https://papers.nips.cc/paper/5021-distributed-representations-of-words-and-phrases-and-their-compositionality.pdf) the authors showed an striking discovery: word analogy tasks can be solved by simple linear algebra. For example, the word analogy question **man-->woman-->king-->??** can be solved by looking for the embedding word $v_w$ such that $v_{\\text{king}}-v_{w}$ is most similar to $v_{\\text{man}}−v_{\\text{woman}}$; in other words, minimizes \n",
        "\\begin{align}\n",
        "||v_{w}-v_{\\text{king}}+v_{\\text{man}}−v_{\\text{woman}}||^2\n",
        "\\end{align}\n",
        "\n",
        "Note that, in case the above norm is zero, this means that \n",
        "\\begin{align}\n",
        "v_{w} = v_{\\text{king}}-v_{\\text{man}}+v_{\\text{woman}}\n",
        "\\end{align}\n",
        "\n",
        "Try to study this effect in the set of word embeddings you just computed. Recall you can check the list of words in the list 'count'. **Note:** most likely it won't work, since we have used a very small database. But it will be fun to think about semantic operations in an embedding space though!"
      ]
    },
    {
      "metadata": {
        "id": "uWOsA6visLLX",
        "colab_type": "code",
        "colab": {
          "base_uri": "https://localhost:8080/",
          "height": 218
        },
        "outputId": "4d465c8e-2ab3-424f-ae3f-78ba136a08f8"
      },
      "cell_type": "code",
      "source": [
        "# 1)\n",
        "\n",
        "def define_embed_graph(num_sampled):\n",
        "\n",
        "  graph = tf.Graph()\n",
        "\n",
        "  with graph.as_default(), tf.device('/cpu:0'):\n",
        "    # Input data.\n",
        "    train_dataset = tf.placeholder(tf.int32, shape=[batch_size])\n",
        "    train_labels = tf.placeholder(tf.int32, shape=[batch_size, 1])\n",
        "    valid_dataset = tf.constant(valid_examples, dtype=tf.int32)\n",
        "  \n",
        "    # Variables.\n",
        "    embeddings = tf.Variable(tf.random_uniform([vocabulary_size, embedding_size], -1.0, 1.0))\n",
        "    softmax_weights = tf.Variable(\n",
        "        tf.truncated_normal([vocabulary_size, embedding_size],stddev=1.0 / math.sqrt(embedding_size)))\n",
        "    softmax_biases = tf.Variable(tf.zeros([vocabulary_size]))\n",
        "  \n",
        "    # Model.\n",
        "    # Look up embeddings for inputs. YOU DON'T NEED THE ONE HOT ENCODING FOR THE INPUT!!!! \n",
        "    embed = tf.nn.embedding_lookup(embeddings, train_dataset)\n",
        "    # Compute the softmax loss, using a sample of the negative labels each time.\n",
        "    loss = tf.reduce_mean(tf.nn.sampled_softmax_loss(softmax_weights, softmax_biases, train_labels, \n",
        "                                                     embed, num_sampled, vocabulary_size))\n",
        "\n",
        "    # Optimizer.\n",
        "    optimizer = tf.train.AdagradOptimizer(1.0).minimize(loss)\n",
        "  \n",
        "    # Compute the similarity between minibatch examples and all embeddings.\n",
        "    # We use the cosine distance:\n",
        "    norm = tf.sqrt(tf.reduce_sum(tf.square(embeddings), 1, keep_dims=True))\n",
        "    normalized_embeddings = embeddings / norm\n",
        "    valid_embeddings = tf.nn.embedding_lookup(normalized_embeddings, valid_dataset)\n",
        "    similarity = tf.matmul(valid_embeddings, tf.transpose(normalized_embeddings))\n",
        "  \n",
        "  \n",
        "def run_graph(num_steps):\n",
        "  \n",
        "  data_index = 0\n",
        "\n",
        "  with tf.Session(graph=graph) as session:\n",
        "    tf.global_variables_initializer().run()\n",
        "    print('Initialized')\n",
        "    average_loss = 0\n",
        "    for step in range(num_steps):\n",
        "\n",
        "      batch_data, batch_labels = preprocessing.generate_batch(data,data_index,batch_size, num_skips, skip_window) \n",
        "      data_index = (data_index + batch_size) % len(data)\n",
        "        \n",
        "      feed_dict = {train_dataset : batch_data, train_labels : batch_labels}\n",
        "      _, l = session.run([optimizer, loss], feed_dict=feed_dict)\n",
        "      average_loss += l\n",
        "      if step % 2000 == 0:\n",
        "        if step > 0:\n",
        "          avg_loss = average_loss / 2000\n",
        "          average_loss = 0\n",
        "    final_embeddings = normalized_embeddings.eval()\n",
        "    return avg_loss\n",
        "  \n",
        "  \n",
        "num_negative_arr = [16, 32, 64, 128, 256, 512]\n",
        "avg_loss = np.zeros(len(num_negative_arr))\n",
        "\n",
        "for i in range(len(num_negative_arr)):\n",
        "  batch_size = 32\n",
        "  embedding_size = 128 \n",
        "  skip_window = 1 \n",
        "  num_skips = 2 \n",
        "  valid_size = 32 \n",
        "  valid_window = 200 \n",
        "  valid_examples = np.array(random.sample(range(valid_window), valid_size))\n",
        "  num_steps = 100001\n",
        "  \n",
        "  # define and run graph with 'num_negative_arr' number of negative samples\n",
        "  define_embed_graph(num_negative_arr[i])\n",
        "  avg_loss[i] = run_graph(num_steps)\n",
        "  print ('Average loss with %d negative samples is %r' %(num_negative_arr[i], avg_loss[i]))\n"
      ],
      "execution_count": 24,
      "outputs": [
        {
          "output_type": "stream",
          "text": [
            "Initialized\n",
            "Average loss with 16 negative samples is 3.401200363099575\n",
            "Initialized\n",
            "Average loss with 32 negative samples is 3.403533688753843\n",
            "Initialized\n",
            "Average loss with 64 negative samples is 3.3977614879012106\n",
            "Initialized\n",
            "Average loss with 128 negative samples is 3.3983319845497606\n",
            "Initialized\n",
            "Average loss with 256 negative samples is 3.4003915626108645\n",
            "Initialized\n",
            "Average loss with 512 negative samples is 3.4080452289283274\n"
          ],
          "name": "stdout"
        }
      ]
    },
    {
      "metadata": {
        "id": "0p5P4YoO1-nl",
        "colab_type": "code",
        "colab": {
          "base_uri": "https://localhost:8080/",
          "height": 282
        },
        "outputId": "54c95a99-624d-4433-b220-4c3a428b0e55"
      },
      "cell_type": "code",
      "source": [
        "import matplotlib.pyplot as plt\n",
        "\n",
        "plt.figure()\n",
        "plt.plot(num_negative_arr, avg_loss)"
      ],
      "execution_count": 25,
      "outputs": [
        {
          "output_type": "execute_result",
          "data": {
            "text/plain": [
              "[<matplotlib.lines.Line2D at 0x7f3f7c665cf8>]"
            ]
          },
          "metadata": {
            "tags": []
          },
          "execution_count": 25
        },
        {
          "output_type": "display_data",
          "data": {
            "image/png": "[encoded data removed]",
            "text/plain": [
              "<matplotlib.figure.Figure at 0x7f3f7c70e278>"
            ]
          },
          "metadata": {
            "tags": []
          }
        }
      ]
    },
    {
      "metadata": {
        "id": "rfDcZUZf94kQ",
        "colab_type": "code",
        "colab": {
          "base_uri": "https://localhost:8080/",
          "height": 185
        },
        "outputId": "738bb90e-f0bb-4b77-af2f-a1320ba21f2f"
      },
      "cell_type": "code",
      "source": [
        "# 2)\n",
        "\n",
        "# to see some samples try some words and find closest 10 words\n",
        "\n",
        "def find_sorted_10_dist(word):\n",
        "  cdf = final_embeddings[dictionary[word]]\n",
        "  distances = [ (np.linalg.norm(cdf  - final_embeddings[dictionary[w]]),w)  for w in dictionary.keys()]\n",
        "  return sorted(distances)[0:10]\n",
        "\n",
        "find_sorted_10_dist('anarchism')"
      ],
      "execution_count": 37,
      "outputs": [
        {
          "output_type": "execute_result",
          "data": {
            "text/plain": [
              "[(0.0, 'anarchism'),\n",
              " (1.1211296, 'jews'),\n",
              " (1.1501853, 'values'),\n",
              " (1.1515163, 'gemological'),\n",
              " (1.1534758, 'debates'),\n",
              " (1.1536517, 'epithet'),\n",
              " (1.1599362, 'perimeter'),\n",
              " (1.1607437, 'aegean'),\n",
              " (1.1621381, 'furthered'),\n",
              " (1.1628569, 'suspecting')]"
            ]
          },
          "metadata": {
            "tags": []
          },
          "execution_count": 37
        }
      ]
    }
  ]
}